{
  "metadata": {
    "language_info": {
      "codemirror_mode": {
        "name": "python",
        "version": 3
      },
      "file_extension": ".py",
      "mimetype": "text/x-python",
      "name": "python",
      "nbconvert_exporter": "python",
      "pygments_lexer": "ipython3",
      "version": "3.8"
    },
    "kernelspec": {
      "name": "python",
      "display_name": "Pyolite",
      "language": "python"
    }
  },
  "nbformat_minor": 4,
  "nbformat": 4,
  "cells": [
    {
      "cell_type": "markdown",
      "source": "# My Jupyter Notebook on IBM Watson Studio",
      "metadata": {}
    },
    {
      "cell_type": "markdown",
      "source": "**NIRANJANA SURESH**\n\nI desire to be data scientist in the field of IT\n",
      "metadata": {}
    },
    {
      "cell_type": "markdown",
      "source": "*I am interested In data science because it can predict things using the data available which a human cant do without the tools available In \ndata science*\n",
      "metadata": {}
    },
    {
      "cell_type": "markdown",
      "source": "### The below code takes two values a and b presumed to be 5 and 6 respectively and finds the largest number",
      "metadata": {}
    },
    {
      "cell_type": "code",
      "source": "a=5\nb=6\nif(a>b):\n    print(\"a is the largest\")\nelse:\n    print(\"b is the largest\")",
      "metadata": {
        "trusted": true
      },
      "execution_count": 6,
      "outputs": [
        {
          "name": "stdout",
          "text": "b is the largest\n",
          "output_type": "stream"
        }
      ]
    },
    {
      "cell_type": "markdown",
      "source": "1.finds largest number\n\n2.prints which Is largest\n\n[link to coursera website](https://www.coursera.org/)\n\nHere's our image (click the link):\n\nInline-style: \n![alt text](https://d1m75rqqgidzqn.cloudfront.net/wp-data/2019/09/11134058/What-is-data-science-2.jpg)",
      "metadata": {}
    },
    {
      "cell_type": "code",
      "source": "",
      "metadata": {},
      "execution_count": null,
      "outputs": []
    }
  ]
}