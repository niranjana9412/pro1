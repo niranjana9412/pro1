{
 "cells": [
  {
   "cell_type": "code",
   "execution_count": 1,
   "id": "3fa2e7a3-563c-4226-88a9-755b1c761f5b",
   "metadata": {},
   "outputs": [
    {
     "name": "stdout",
     "output_type": "stream",
     "text": [
      "we are one exo saranghaja\n"
     ]
    }
   ],
   "source": [
    "print(\"we are one exo saranghaja\")"
   ]
  },
  {
   "cell_type": "code",
   "execution_count": null,
   "id": "924ee320-fc22-47cf-8de8-fdf527c1f2a0",
   "metadata": {},
   "outputs": [],
   "source": []
  }
 ],
 "metadata": {
  "kernelspec": {
   "display_name": "Python",
   "language": "python",
   "name": "conda-env-python-py"
  },
  "language_info": {
   "codemirror_mode": {
    "name": "ipython",
    "version": 3
   },
   "file_extension": ".py",
   "mimetype": "text/x-python",
   "name": "python",
   "nbconvert_exporter": "python",
   "pygments_lexer": "ipython3",
   "version": "3.7.12"
  }
 },
 "nbformat": 4,
 "nbformat_minor": 5
}
